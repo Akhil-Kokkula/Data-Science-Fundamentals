{
 "cells": [
  {
   "attachments": {},
   "cell_type": "markdown",
   "metadata": {},
   "source": [
    "# Worksheet 16\n",
    "\n",
    "Name: Akhil Kokkula \n",
    "UID: U99436171\n",
    "\n",
    "### Topics\n",
    "\n",
    "- Support Vector Machines (Non-linear case)\n",
    "\n",
    "## Support Vector Machines\n",
    "\n",
    "Follow along in class to implement the perceptron algorithm and create an animation of the algorithm."
   ]
  },
  {
   "attachments": {},
   "cell_type": "markdown",
   "metadata": {},
   "source": [
    "a) As we saw in class, the form\n",
    "$$w^T x + b = 0$$\n",
    "while simple, does not expose the inner product `<x_i, x_j>` which we know `w` depends on, having done the math. This is critical to applying the \"kernel trick\" which allows for learning non-linear decision boundaries. Let's modify the above algorithm to use the form\n",
    "$$\\sum_i \\alpha_i <x_i, x> + b = 0$$"
   ]
  },
  {
   "cell_type": "code",
   "execution_count": 2,
   "metadata": {},
   "outputs": [],
   "source": [
    "import numpy as np\n",
    "from PIL import Image as im\n",
    "import matplotlib.pyplot as plt\n",
    "import sklearn.datasets as datasets\n",
    "\n",
    "TEMPFILE = \"temp.png\"\n",
    "CENTERS = [[0, 1], [1, 0]]\n",
    "\n",
    "epochs = 100\n",
    "learning_rate = .05\n",
    "expanding_rate = .99\n",
    "retracting_rate = 1.1\n",
    "\n",
    "X, labels = datasets.make_blobs(n_samples=10, centers=CENTERS, cluster_std=0.2, random_state=0)\n",
    "Y = np.array(list(map(lambda x : -1 if x == 0 else 1, labels.tolist())))\n",
    "\n",
    "alpha_i = np.zeros((len(X),))\n",
    "b = 0\n",
    "\n",
    "def snap(x, alpha_i, b, error):\n",
    "    # create a mesh to plot in\n",
    "    h = .01  # step size in the mesh\n",
    "    x_min, x_max = X[:, 0].min() - .5, X[:, 0].max() + .5\n",
    "    y_min, y_max = X[:, 1].min() - .5, X[:, 1].max() + .5\n",
    "    xx, yy = np.meshgrid(np.arange(x_min, x_max, h),\n",
    "                         np.arange(y_min, y_max, h))\n",
    "\n",
    "    meshData = np.c_[xx.ravel(), yy.ravel()]\n",
    "    cs = np.array([x for x in 'gb'])\n",
    "    fig, ax = plt.subplots()\n",
    "    ax.scatter(X[:,0],X[:,1],color=cs[labels].tolist(), s=50, alpha=0.8)\n",
    "\n",
    "    if error:\n",
    "        ax.add_patch(plt.Circle((x[0], x[1]), .12, color='r',fill=False))\n",
    "    else:\n",
    "        ax.add_patch(plt.Circle((x[0], x[1]), .12, color='y',fill=False))\n",
    "   \n",
    "    Z = predict_many(alpha_i, b, meshData)\n",
    "    Z = np.array([0 if z <=0 else 1 for z in Z]).reshape(xx.shape)\n",
    "    ax.contourf(xx, yy, Z, alpha=.5, cmap=plt.cm.Paired)\n",
    "    fig.savefig(TEMPFILE)\n",
    "    plt.close()\n",
    "    return im.fromarray(np.asarray(im.open(TEMPFILE)))\n",
    "\n",
    "def predict_many(alpha_i, b, Z):\n",
    "    res = []\n",
    "    for i in range(len(Z)):\n",
    "        res.append(predict(alpha_i, b, Z[i]))\n",
    "    return np.array(res)\n",
    "\n",
    "def polynomial(xi, xj, m, n):\n",
    "    return (np.dot(xi, xj) + m) ** n\n",
    "\n",
    "def predict(alphai, b, x):\n",
    "    wx = 0\n",
    "    for j in range(len(X)):\n",
    "        wx += alphai[j] * polynomial(X[j], x, 1, 2)\n",
    "    return wx + b\n",
    "\n",
    "images = []\n",
    "for _ in range(epochs):\n",
    "    # pick a point from X at random\n",
    "    i = np.random.randint(0, len(X))\n",
    "    error = False\n",
    "    x, y = X[i], Y[i]\n",
    "    ypred = predict(alpha_i, b, x)\n",
    "    if (ypred > 0 and y > 0) or (ypred < 0 and y < 0):\n",
    "        if 1 > ypred > -1:\n",
    "            alpha_i[i] += y * learning_rate\n",
    "            alpha_i = alpha_i * retracting_rate\n",
    "            b += y * learning_rate * retracting_rate\n",
    "        else:\n",
    "            alpha_i = alpha_i * expanding_rate\n",
    "            b *= expanding_rate\n",
    "    else:\n",
    "        alpha_i[i] += y * learning_rate\n",
    "        alpha_i = alpha_i * expanding_rate\n",
    "        b += y * learning_rate * expanding_rate\n",
    "\n",
    "    images.append(snap(x, alpha_i, b, error))\n",
    "\n",
    "images[0].save(\n",
    "    'svm_dual.gif',\n",
    "    optimize=False,\n",
    "    save_all=True,\n",
    "    append_images=images[1:],\n",
    "    loop=0,\n",
    "    duration=100\n",
    ")"
   ]
  },
  {
   "cell_type": "markdown",
   "metadata": {},
   "source": [
    "Write a configurable kernel function to apply in lieu of the dot product. Try it out on a dataset that is not linearly separable."
   ]
  },
  {
   "cell_type": "code",
   "execution_count": 4,
   "metadata": {},
   "outputs": [],
   "source": [
    "def polynomial(x_i, x_j, c, n):\n",
    "    return (np.dot(x_i, x_j) + c) ** n\n",
    "\n",
    "def rbf(x_i, x_j, gamma):\n",
    "    distance = np.linalg.norm(x_i - x_j) ** 2\n",
    "    return np.exp(-gamma * distance)"
   ]
  },
  {
   "attachments": {},
   "cell_type": "markdown",
   "metadata": {},
   "source": [
    "b) Assume we fit an SVM using a polynomial Kernel function and it seems to overfit the data. How would you adjust the tuning parameter `n` of the kernel function?"
   ]
  },
  {
   "cell_type": "markdown",
   "metadata": {},
   "source": [
    "I would decrease n so the function becomes less complex"
   ]
  },
  {
   "attachments": {},
   "cell_type": "markdown",
   "metadata": {},
   "source": [
    "c) Assume we fit an SVM using a RBF Kernel function and it seems to underfit the data. How would you adjust the tuning parameter `sigma` of the kernel function?"
   ]
  },
  {
   "cell_type": "markdown",
   "metadata": {},
   "source": [
    "I would decrease sigma since the RBF kernel will become narrower which would make it more complex and fit closely to the training data."
   ]
  },
  {
   "attachments": {},
   "cell_type": "markdown",
   "metadata": {},
   "source": [
    "d) Tune the parameter of a specific Kernel function, to fit an SVM (using your code above) to the following dataset:"
   ]
  },
  {
   "cell_type": "code",
   "execution_count": 7,
   "metadata": {},
   "outputs": [
    {
     "data": {
      "image/png": "[encoded data removed]",
      "text/plain": [
       "<Figure size 640x480 with 1 Axes>"
      ]
     },
     "metadata": {},
     "output_type": "display_data"
    }
   ],
   "source": [
    "import numpy as np\n",
    "import matplotlib.pyplot as plt\n",
    "from sklearn import svm\n",
    "\n",
    "data = np.loadtxt(\"spiral.data\")\n",
    "x, y = data[:, :2], data[:, 2]\n",
    "m = svm.SVC(kernel='rbf', gamma=100)\n",
    "m.fit(x, y)\n",
    "\n",
    "h = .01 \n",
    "x_min, x_max = X[:, 0].min() - .5, X[:, 0].max() + .5\n",
    "y_min, y_max = X[:, 1].min() - .5, X[:, 1].max() + .5\n",
    "x2, y2 = np.meshgrid(np.arange(x_min, x_max, h),\n",
    "                     np.arange(y_min, y_max, h))\n",
    "xnew = np.c_[x2.ravel(), y2.ravel()]\n",
    "ynew = m.predict(xnew).reshape(x2.shape)\n",
    "fig = plt.figure(1)\n",
    "plt.set_cmap(plt.cm.Paired)\n",
    "plt.pcolormesh(x2, y2, ynew)\n",
    "plt.scatter(x[:, 0], x[:, 1], c=y)\n",
    "cs = np.array([x for x in 'ryr'])\n",
    "plt.scatter(X[:, 0], X[:, 1], color=cs[labels].tolist(), s=25, alpha=0.8)\n",
    "plt.show()"
   ]
  }
 ],
 "metadata": {
  "kernelspec": {
   "display_name": "env",
   "language": "python",
   "name": "python3"
  },
  "language_info": {
   "codemirror_mode": {
    "name": "ipython",
    "version": 3
   },
   "file_extension": ".py",
   "mimetype": "text/x-python",
   "name": "python",
   "nbconvert_exporter": "python",
   "pygments_lexer": "ipython3",
   "version": "3.10.12"
  },
  "orig_nbformat": 4,
  "vscode": {
   "interpreter": {
    "hash": "76ca05dc3ea24b2e3b98cdb7774adfbb40773424bf5109b477fd793f623715af"
   }
  }
 },
 "nbformat": 4,
 "nbformat_minor": 2
}
